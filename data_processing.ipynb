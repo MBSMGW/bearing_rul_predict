{
 "cells": [
  {
   "cell_type": "markdown",
   "metadata": {},
   "source": [
    "In this notebook data from merged .csv (vibration and temperature) are loaded and processed by 'utils.data_utils' functions. In the end all the processed data is saved in binary format"
   ]
  },
  {
   "cell_type": "code",
   "execution_count": 1,
   "metadata": {},
   "outputs": [],
   "source": [
    "import numpy as np\n",
    "\n",
    "from utils import data_model\n",
    "from utils.preprocessing import cumsum, hankel_svdvals, correlation_coeffs\n",
    "from utils.preprocessing_c import derivative\n",
    "\n",
    "\n",
    "%load_ext autoreload\n",
    "%autoreload 2"
   ]
  },
  {
   "cell_type": "code",
   "execution_count": 2,
   "metadata": {},
   "outputs": [],
   "source": [
    "dataset_path = 'data/processed_data/femto_dataset'\n",
    "\n",
    "# 'all' or a list of bearings name (e.g. 'all' or ['Bearing1_1', 'Bearing2_5', 'Bearing3_1', ...])\n",
    "bearings_to_load = 'all'\n",
    "\n",
    "# 'all' or a list of data names (e.g. 'all' or ['acc', 'temp', 'cumsum', 'fft_spectogram', ...])\n",
    "# results from 'data_utils' functions have the same data name of its corresponding function \n",
    "data_to_load = ['acc']\n",
    "\n",
    "bearings = data_model.load(dataset_path, bearings_to_load, data_to_load)"
   ]
  },
  {
   "cell_type": "markdown",
   "metadata": {},
   "source": [
    "---"
   ]
  },
  {
   "cell_type": "markdown",
   "metadata": {},
   "source": [
    "Defining kwargs for preprocessing functions"
   ]
  },
  {
   "cell_type": "code",
   "execution_count": 16,
   "metadata": {},
   "outputs": [],
   "source": [
    "fs = 25600                                 # 25600 Hz\n",
    "recording_time = 0.1                       # 0.1 seconds\n",
    "pts_per_recording = int(fs*recording_time) # 2560 points per recording\n",
    "\n",
    "\n",
    "hankel_svdvals_kwargs = {'hankel_window_size' : 9,\n",
    "                         'slice_window_size' : pts_per_recording}\n",
    "\n",
    "correlation_coeffs_kwargs = {'baseline' : 0,\n",
    "                             'norm_interval' : [-1, 1],\n",
    "                             'filter_window' : 3,\n",
    "                             'filter_polyorder' : 2}       "
   ]
  },
  {
   "cell_type": "code",
   "execution_count": 17,
   "metadata": {},
   "outputs": [],
   "source": [
    "for bearing in bearings:\n",
    "    \n",
    "    # Vibration data\n",
    "    acc_v = bearing.data['acc']['v']\n",
    "    \n",
    "    # Preprocessing functions \n",
    "    #bearing.data['cumsum_v'] = cumsum(acc_v)\n",
    "    \n",
    "    bearing.data['hankel_svdvals_v'] = hankel_svdvals(acc_v, **hankel_svdvals_kwargs)\n",
    "        \n",
    "    bearing.data['correlation_coeffs_v'] = correlation_coeffs(bearing.data['hankel_svdvals_v'],\n",
    "                                                              **correlation_coeffs_kwargs)\n",
    "    \n",
    "    # Saving processed data\n",
    "    bearing.save_data()"
   ]
  },
  {
   "cell_type": "code",
   "execution_count": null,
   "metadata": {},
   "outputs": [],
   "source": [
    "import matplotlib.pyplot as plt\n",
    "\n",
    "print(\"Hankel window size: %s\" % hankel_svdvals_kwargs)\n",
    "for bearing in bearings:\n",
    "    \n",
    "    print(\"Bearing %s\" % bearing.name)\n",
    "    print(min(bearing.data['correlation_coeffs_v']))\n",
    "    plt.figure()\n",
    "    plt.plot(bearing.data['correlation_coeffs_v'])"
   ]
  }
 ],
 "metadata": {
  "kernelspec": {
   "display_name": "bearing_rul_predict",
   "language": "python",
   "name": "bearing_rul_predict"
  },
  "language_info": {
   "codemirror_mode": {
    "name": "ipython",
    "version": 3
   },
   "file_extension": ".py",
   "mimetype": "text/x-python",
   "name": "python",
   "nbconvert_exporter": "python",
   "pygments_lexer": "ipython3",
   "version": "3.6.9"
  }
 },
 "nbformat": 4,
 "nbformat_minor": 2
}
